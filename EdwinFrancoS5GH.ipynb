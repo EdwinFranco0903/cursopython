{
 "cells": [
  {
   "cell_type": "code",
   "execution_count": 13,
   "metadata": {},
   "outputs": [],
   "source": [
    "#verificar si un numero es par\n",
    "numero = int(input('Inserte un numero '))\n",
    "if numero % 2 == 0:\n",
    "    print(f'El numero es par {numero}')\n",
    "else:\n",
    "    print(f'El numero no es par {numero}')"
   ]
  },
  {
   "cell_type": "code",
   "execution_count": null,
   "metadata": {},
   "outputs": [],
   "source": [
    "#verificar un contraseña\n",
    "contrasenia =  input('ingrese la contraseña ')\n",
    "if contrasenia == 'entrada123':\n",
    "    print('La contraseña es correcta ')"
   ]
  },
  {
   "cell_type": "code",
   "execution_count": null,
   "metadata": {},
   "outputs": [
    {
     "name": "stdout",
     "output_type": "stream",
     "text": [
      "el numero mayor es x = 10\n"
     ]
    }
   ],
   "source": [
    "x = 10\n",
    "y = 7\n",
    "if x > y:\n",
    "    print(f'el numero mayor es x = {x}')\n",
    "elif x == y:\n",
    "    print('Los numero soniguales')\n",
    "else:\n",
    "    print(f'El numero mayor es y = {y}')"
   ]
  },
  {
   "cell_type": "code",
   "execution_count": null,
   "metadata": {},
   "outputs": [
    {
     "name": "stdout",
     "output_type": "stream",
     "text": [
      "el numero mayor es x = 10\n"
     ]
    }
   ],
   "source": [
    "x = 10\n",
    "y = 7\n",
    "if x > y:\n",
    "    print(f'el numero mayor es x = {x}')\n",
    "else:\n",
    "    print(f'El numero mayor es y = {y}')"
   ]
  },
  {
   "cell_type": "code",
   "execution_count": null,
   "metadata": {},
   "outputs": [
    {
     "name": "stdout",
     "output_type": "stream",
     "text": [
      "el numero 0 es igual a cero \n"
     ]
    }
   ],
   "source": [
    "#Elaborar una solucion la cual, dado un valor, verifique si es positivo negativo o cero\n",
    "numero = 0 #int(input('Ingrese un numero '))\n",
    "if numero > 0:\n",
    "    print(f'El numero {numero} es positivo ')\n",
    "elif numero == 0:\n",
    "    print(f'el numero {numero} es igual a cero ')\n",
    "else:\n",
    "    print(f'El numero es negativo')"
   ]
  },
  {
   "cell_type": "code",
   "execution_count": null,
   "metadata": {},
   "outputs": [
    {
     "name": "stdout",
     "output_type": "stream",
     "text": [
      "a is greater than b\n"
     ]
    }
   ],
   "source": [
    "a = 6\n",
    "b = 3\n",
    "if a > b: print('a is greater than b')"
   ]
  },
  {
   "cell_type": "markdown",
   "metadata": {},
   "source": [
    "Operador ternario o Expresiones condicionales"
   ]
  },
  {
   "cell_type": "code",
   "execution_count": null,
   "metadata": {},
   "outputs": [
    {
     "name": "stdout",
     "output_type": "stream",
     "text": [
      "A es positivo  \n"
     ]
    }
   ],
   "source": [
    "a = 3\n",
    "print('A es positivo  ') if a > 0 else print(' A es negativo ')"
   ]
  },
  {
   "cell_type": "code",
   "execution_count": null,
   "metadata": {},
   "outputs": [
    {
     "name": "stdout",
     "output_type": "stream",
     "text": [
      "A es positivo \n"
     ]
    }
   ],
   "source": [
    "if a > 0 :\n",
    "    print('A es positivo ')\n",
    "else:\n",
    "    print('A es negativo ')"
   ]
  },
  {
   "cell_type": "code",
   "execution_count": null,
   "metadata": {},
   "outputs": [
    {
     "name": "stdout",
     "output_type": "stream",
     "text": [
      "El mayor es B \n"
     ]
    }
   ],
   "source": [
    "#Imprimir el mayor de los numeros A y B\n",
    "a = 55\n",
    "b = 55\n",
    "\n",
    "print('El mayor es A ') if a>b else print('El mayor es B ')"
   ]
  },
  {
   "cell_type": "markdown",
   "metadata": {},
   "source": [
    "Tambien puede tener varios *ELSE* en la misma linea"
   ]
  },
  {
   "cell_type": "code",
   "execution_count": 3,
   "metadata": {},
   "outputs": [
    {
     "name": "stdout",
     "output_type": "stream",
     "text": [
      "El mayor es A \n"
     ]
    }
   ],
   "source": [
    "a = 5555\n",
    "b = 555\n",
    "print('El mayor es A ') if a>b else print('son equals') if a == b else print('El mayor es B')"
   ]
  },
  {
   "cell_type": "code",
   "execution_count": 4,
   "metadata": {},
   "outputs": [
    {
     "name": "stdout",
     "output_type": "stream",
     "text": [
      "El numero 10 es Par\n"
     ]
    }
   ],
   "source": [
    "#verificar si un numero es par, si es par que imprima, el numero es par\n",
    "num = 10\n",
    "print(f\"El numero {num} es Par\") if num % 2 == 0 else print(f\"El numero {num} no es par \")"
   ]
  },
  {
   "cell_type": "code",
   "execution_count": null,
   "metadata": {},
   "outputs": [],
   "source": [
    "num = int(input('Ingrese un numero '))\n",
    "print(f\"El numero {num} es Par\") if num % 2 == 0 else print(f\"El numero {num} no es par \")"
   ]
  },
  {
   "cell_type": "code",
   "execution_count": 7,
   "metadata": {},
   "outputs": [
    {
     "name": "stdout",
     "output_type": "stream",
     "text": [
      "El precio final es:  85.765\n"
     ]
    }
   ],
   "source": [
    "#Calcular el descuento de una compra, si precio >100 recibe descuento del 15% si no 10%\n",
    "precio = 100.9\n",
    "\n",
    "if(precio >= 100):\n",
    "    descuento = 0.15\n",
    "    precioFinal = precio - precio*descuento\n",
    "    print(f\"El precio final es:  {precioFinal}\")\n",
    "else:\n",
    "    descuento = 0.10\n",
    "    precioFinal = precio - precio*descuento\n",
    "    print(f'El precio nal es: {precioFinal}')"
   ]
  },
  {
   "cell_type": "code",
   "execution_count": 17,
   "metadata": {},
   "outputs": [
    {
     "name": "stdout",
     "output_type": "stream",
     "text": [
      "El precio nal es: 85.0\n"
     ]
    }
   ],
   "source": [
    "#El valor del descuento 85\n",
    "precio = 100\n",
    "\n",
    "if(precio >= 100):\n",
    "    descuento = 0.15\n",
    "else:\n",
    "    descuento = 0.10\n",
    "precioFinal = precio - precio*descuento\n",
    "print(f'El precio nal es: {precioFinal}')"
   ]
  },
  {
   "cell_type": "markdown",
   "metadata": {},
   "source": [
    "With ternary operator"
   ]
  },
  {
   "cell_type": "code",
   "execution_count": 15,
   "metadata": {},
   "outputs": [
    {
     "name": "stdout",
     "output_type": "stream",
     "text": [
      "El precio final es: 76.5\n"
     ]
    }
   ],
   "source": [
    "precio = 85\n",
    "descuento = 0.15 if precio >= 100 else 0.10 \n",
    "precioFinal = precio- precio*descuento \n",
    "print(f'El precio final es: {precioFinal}')"
   ]
  },
  {
   "cell_type": "code",
   "execution_count": 25,
   "metadata": {},
   "outputs": [
    {
     "name": "stdout",
     "output_type": "stream",
     "text": [
      "El salario del empleado es : 6300.0\n"
     ]
    }
   ],
   "source": [
    "#calcular el salario de un empleado\n",
    "#$10,000 -> 30% de impuestos\n",
    "#$5,000 -> 20% de impuestos\n",
    "#$menos de lo anterior 10%\n",
    "\n",
    "ingreso = 9000\n",
    "impuesto = 0.30 if ingreso > 1000 else 0.20 if ingreso > 5000 else 0.10\n",
    "impuestoPagar = ingreso * impuesto\n",
    "salario = ingreso-impuestoPagar\n",
    "print(f\"El salario del empleado es : {salario}\")"
   ]
  },
  {
   "cell_type": "markdown",
   "metadata": {},
   "source": [
    "OPERADOR LOGICO AND:\n",
    "Para combinar sentencias condicionales, prueba a mayor que b, y si c es mayor que a"
   ]
  },
  {
   "cell_type": "code",
   "execution_count": 1,
   "metadata": {},
   "outputs": [],
   "source": [
    "a = 200\n",
    "b = 33\n",
    "c = 500\n",
    "if a > b and c > a and a > c:\n",
    "    print(\"Both condition are true \")"
   ]
  },
  {
   "cell_type": "code",
   "execution_count": 3,
   "metadata": {},
   "outputs": [
    {
     "name": "stdout",
     "output_type": "stream",
     "text": [
      "No cumples los requisitos\n"
     ]
    }
   ],
   "source": [
    "#Verificacion de edad y estatura\n",
    "\n",
    "edad = 7\n",
    "estatura = 165  \n",
    "\n",
    "if edad >= 18 and estatura >= 160:\n",
    "    print('Eres apto para escalar una montaña')\n",
    "else: \n",
    "    print('No cumples los requisitos')"
   ]
  },
  {
   "cell_type": "markdown",
   "metadata": {},
   "source": [
    "Verificar requisitos"
   ]
  },
  {
   "cell_type": "code",
   "execution_count": 5,
   "metadata": {},
   "outputs": [
    {
     "name": "stdout",
     "output_type": "stream",
     "text": [
      "Pago o membresia invalida\n"
     ]
    }
   ],
   "source": [
    "#Servicio de Netflix\n",
    "\n",
    "pago = False\n",
    "membresia = True\n",
    "acceso_a_contenido = membresia and pago\n",
    "\n",
    "if acceso_a_contenido:\n",
    "    print('Bienvenido a nuestros programas')\n",
    "else:\n",
    "    print('Pago o membresia invalida')\n"
   ]
  },
  {
   "cell_type": "code",
   "execution_count": 13,
   "metadata": {},
   "outputs": [
    {
     "name": "stdout",
     "output_type": "stream",
     "text": [
      "Nota es 0\n"
     ]
    }
   ],
   "source": [
    "#Decidir un rango de numeros: calculo de nota final\n",
    "\n",
    "nota = 0\n",
    "\n",
    "if nota > 0 and nota <= 10:\n",
    "    print('Nota valida')\n",
    "elif nota == 0:\n",
    "    print('Nota es 0')\n",
    "else:\n",
    "    print('Nota invalida')"
   ]
  },
  {
   "cell_type": "code",
   "execution_count": 14,
   "metadata": {},
   "outputs": [
    {
     "name": "stdout",
     "output_type": "stream",
     "text": [
      "Es un numero positivo y par\n"
     ]
    }
   ],
   "source": [
    "#Verificar si el valor dado es numero par y entero positivo\n",
    "#impar y entero positivo\n",
    "#valor es cero\n",
    "#Valor es negativo\n",
    "\n",
    "\n",
    "valor = 6\n",
    "\n",
    "if valor > 0 and valor % 2 ==0:\n",
    "    print('Es un numero positivo y par')\n",
    "elif valor == 0:\n",
    "    print('El valor es cero ')\n",
    "else:\n",
    "    print('El valor es negativo ')"
   ]
  },
  {
   "cell_type": "markdown",
   "metadata": {},
   "source": [
    "REVISAR"
   ]
  },
  {
   "cell_type": "code",
   "execution_count": null,
   "metadata": {},
   "outputs": [],
   "source": [
    "#Revisar contraccion\n",
    "valor = 6\n",
    "\n",
    "print('Es un positivo y par ') if valor > 0 and valor %2 == 0 else print('Es un impart positivo ') "
   ]
  },
  {
   "cell_type": "markdown",
   "metadata": {},
   "source": [
    "OPERADOR LOGICO OR"
   ]
  },
  {
   "cell_type": "code",
   "execution_count": 15,
   "metadata": {},
   "outputs": [
    {
     "name": "stdout",
     "output_type": "stream",
     "text": [
      "At least one of the conditions is True\n"
     ]
    }
   ],
   "source": [
    "a = 200\n",
    "b = 33\n",
    "c = 500\n",
    "\n",
    "if a > b or a > c:\n",
    "    print('At least one of the conditions is True')\n",
    "    \n"
   ]
  },
  {
   "cell_type": "code",
   "execution_count": 19,
   "metadata": {},
   "outputs": [
    {
     "name": "stdout",
     "output_type": "stream",
     "text": [
      "True\n"
     ]
    }
   ],
   "source": [
    "#Verificar si un año es bisiesto\n",
    "\n",
    "anio = 2012\n",
    "\n",
    "anioBisiesto = True if (anio % 4 == 0 and anio % 100 != 0) or anio % 400 == 0 else False\n",
    "print(anioBisiesto)\n"
   ]
  },
  {
   "cell_type": "code",
   "execution_count": 22,
   "metadata": {},
   "outputs": [
    {
     "name": "stdout",
     "output_type": "stream",
     "text": [
      "Triangulo escaleno\n"
     ]
    }
   ],
   "source": [
    "#Clasificar un triangulo\n",
    "#Equilatero -> 3 lados iguales\n",
    "#Isoceles -> 2 lados iguales\n",
    "#Escaleno -> no tiene lados iguales\n",
    "\n",
    "lado1 = 4 \n",
    "lado2 = 5\n",
    "lado3 = 3\n",
    "\n",
    "if lado1 == lado2 == lado3:\n",
    "    print('Triagulo equilatero')\n",
    "elif lado1 == lado2 or lado1 == lado3 or lado2 == lado3:\n",
    "    print('Triangulo isoceles')\n",
    "else: \n",
    "    print('Triangulo escaleno')"
   ]
  },
  {
   "cell_type": "markdown",
   "metadata": {},
   "source": [
    "Operador logico NOT"
   ]
  },
  {
   "cell_type": "code",
   "execution_count": 23,
   "metadata": {},
   "outputs": [
    {
     "name": "stdout",
     "output_type": "stream",
     "text": [
      "a is NOT greater than b\n"
     ]
    }
   ],
   "source": [
    "a = 33\n",
    "b = 200\n",
    "\n",
    "if not a > b:\n",
    "    print('a is NOT greater than b')"
   ]
  },
  {
   "cell_type": "code",
   "execution_count": 26,
   "metadata": {},
   "outputs": [],
   "source": [
    "a = 33\n",
    "b = 200\n",
    "if not b > a:\n",
    "    print('b > a')"
   ]
  },
  {
   "cell_type": "markdown",
   "metadata": {},
   "source": [
    "SENTENCIAS IF ANIDADOS"
   ]
  },
  {
   "cell_type": "code",
   "execution_count": 29,
   "metadata": {},
   "outputs": [
    {
     "name": "stdout",
     "output_type": "stream",
     "text": [
      "El numero es 0\n"
     ]
    }
   ],
   "source": [
    "a = 0\n",
    "if a > 0:\n",
    "    if a % 2 == 0:\n",
    "        print('a es par y positivo ')\n",
    "    else:\n",
    "        print('impar y positivo')\n",
    "elif a == 0:\n",
    "    print('El numero es 0')\n",
    "else: \n",
    "    print('es negativo')"
   ]
  },
  {
   "cell_type": "code",
   "execution_count": 31,
   "metadata": {},
   "outputs": [
    {
     "name": "stdout",
     "output_type": "stream",
     "text": [
      "tienes derecho a un decuento\n"
     ]
    }
   ],
   "source": [
    "#Validacion de un ticket\n",
    "\n",
    "validacion_entrada = True\n",
    "validacion_pelicula = False\n",
    "\n",
    "if validacion_entrada and validacion_pelicula:\n",
    "    print('Tiene derecho a descuento de parqueo')\n",
    "elif validacion_entrada or validacion_pelicula:\n",
    "    print('tienes derecho a un decuento')\n",
    "else:\n",
    "    print('ya te cobramos debes pagar 4 horas de parqueo')"
   ]
  },
  {
   "cell_type": "markdown",
   "metadata": {},
   "source": [
    "Declaracion Pass: indica que debemos tener algo en ese bloque del codigo pero por el momento no se tiene."
   ]
  },
  {
   "cell_type": "code",
   "execution_count": 32,
   "metadata": {},
   "outputs": [],
   "source": [
    "condicion_principal = True\n",
    "condicion_akternativa =False\n",
    "\n",
    "if condicion_principal:\n",
    "    #bloque de codigo principal\n",
    "\n",
    "    pass\n",
    "elif condicion_akternativa:\n",
    "#bloque de codigo alternativo\n",
    "    pass\n",
    "else:\n",
    "    #bloque de codigo por defecto\n",
    "    pass"
   ]
  },
  {
   "cell_type": "code",
   "execution_count": 33,
   "metadata": {},
   "outputs": [
    {
     "name": "stdout",
     "output_type": "stream",
     "text": [
      "La condicion no se cumple\n"
     ]
    }
   ],
   "source": [
    "condicion = False\n",
    "\n",
    "if condicion:\n",
    "    pass #No hace nada simplemente actua como marcador de posicion\n",
    "else:\n",
    "    print('La condicion no se cumple')"
   ]
  },
  {
   "cell_type": "markdown",
   "metadata": {},
   "source": [
    "APLICANDO CONOCIMIENTOS"
   ]
  },
  {
   "cell_type": "code",
   "execution_count": null,
   "metadata": {},
   "outputs": [],
   "source": [
    "#rEALIZADO EN CLASE\n",
    "\n",
    "miEdad = int(input('Ingrese tu edad'))\n",
    "tuEdad = int(input('Ingresa mi edad'))\n",
    "\n",
    "if miEdad > tuEdad:\n",
    "    resultado = miEdad-tuEdad\n",
    "    print(f'Tengo {resultado} años mas que tu')\n",
    "    if miEdad != tuEdad +1:\n",
    "        print('tienes un año mas que yo')\n",
    "elif miEdad < tuEdad:\n",
    "    resultado = tuEdad-miEdad\n",
    "    print(f'tu tienes {resultado} años mas que yo')\n",
    "else: \n",
    "    print('Tenemos la misma edad')\n"
   ]
  },
  {
   "cell_type": "code",
   "execution_count": null,
   "metadata": {},
   "outputs": [],
   "source": [
    "\n",
    "#numero entero, positivo, negativo o cero\n",
    "num = int(input('Ingrese un numero entero'))\n",
    "\n",
    "if num > 0:\n",
    "    print('numero es positivo')\n",
    "elif num == 0:\n",
    "    print('numeero es cero ')\n",
    "else:\n",
    "    print('numero es negativo ')"
   ]
  },
  {
   "cell_type": "code",
   "execution_count": 4,
   "metadata": {},
   "outputs": [],
   "source": [
    "#Numero par, impar y si es divisible por 3\n",
    "\n",
    "#num = int(input('Ingrese un numero entero'))\n",
    "\n",
    "#num = 36\n",
    "num = 5\n",
    "\n",
    "if num % 2 == 0 and num % 3 == 0:\n",
    "    print('El numero es par')\n",
    "    print('El numero es divisible entre 3')\n",
    "elif num % 2 != 0 and num % 3 == 0:\n",
    "     print('El numero es divisinle entre 3 e impar')\n",
    "elif num % 3 == 0:\n",
    "        print('numero solo divisible entre 3')\n",
    "elif num % 2 == 0:\n",
    "    print('el numero es par')\n",
    "else:\n",
    "    print('numero es impar')   \n"
   ]
  },
  {
   "cell_type": "code",
   "execution_count": 7,
   "metadata": {},
   "outputs": [
    {
     "name": "stdout",
     "output_type": "stream",
     "text": [
      "Letra es consonante\n"
     ]
    }
   ],
   "source": [
    "letra = 'c'\n",
    "if letra == 'a' or letra == 'e' or letra == 'i' or letra == 'o' or letra == 'u':\n",
    "    print('Letra es iguala vocal')\n",
    "else:\n",
    "    print('Letra es consonante')"
   ]
  },
  {
   "cell_type": "code",
   "execution_count": 22,
   "metadata": {},
   "outputs": [
    {
     "name": "stdout",
     "output_type": "stream",
     "text": [
      "Dato no valido\n"
     ]
    }
   ],
   "source": [
    "tuEdad = 0\n",
    "\n",
    "if tuEdad < 18 and tuEdad >0:\n",
    "    result = (18-tuEdad)\n",
    "    print(f'Te faltan {result} años para poder conducir')\n",
    "elif tuEdad == 0 or tuEdad < 0:\n",
    "    print('Dato no valido')\n",
    "else: \n",
    "    print('apto para cnducir')"
   ]
  },
  {
   "cell_type": "code",
   "execution_count": 23,
   "metadata": {},
   "outputs": [
    {
     "name": "stdout",
     "output_type": "stream",
     "text": [
      "Tu eres mayor\n",
      "Nuestra diferencia es 15\n"
     ]
    }
   ],
   "source": [
    "mi_edad = 0\n",
    "tu_edad = 15\n",
    "\n",
    "if mi_edad > tu_edad:  \n",
    "    anio = mi_edad - tu_edad\n",
    "    if anio == 1:\n",
    "        print('Soy mayor que tu')\n",
    "        print('Nuestra diferencia es de 1 año')\n",
    "    else:\n",
    "        print('Soy mayor que tu')\n",
    "        print(f'Nuestra diferencia es {anio}')\n",
    "elif mi_edad == tu_edad:\n",
    "    print('Tenemos la misma edad')\n",
    "elif mi_edad < tu_edad:  \n",
    "    anio = tu_edad - mi_edad\n",
    "    if anio == 1:\n",
    "            print('Tu eres mayor')\n",
    "            print('Nuestra diferencia es de 1 año')\n",
    "    else:\n",
    "            print('Tu eres mayor')\n",
    "            print(f'Nuestra diferencia es {anio}')\n",
    "else:\n",
    "     pass"
   ]
  }
 ],
 "metadata": {
  "kernelspec": {
   "display_name": "Python 3",
   "language": "python",
   "name": "python3"
  },
  "language_info": {
   "codemirror_mode": {
    "name": "ipython",
    "version": 3
   },
   "file_extension": ".py",
   "mimetype": "text/x-python",
   "name": "python",
   "nbconvert_exporter": "python",
   "pygments_lexer": "ipython3",
   "version": "3.11.4"
  },
  "orig_nbformat": 4
 },
 "nbformat": 4,
 "nbformat_minor": 2
}
