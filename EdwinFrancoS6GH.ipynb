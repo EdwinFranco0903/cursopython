{
 "cells": [
  {
   "cell_type": "markdown",
   "metadata": {},
   "source": [
    "CONTROL DE LECTURA"
   ]
  },
  {
   "cell_type": "code",
   "execution_count": 2,
   "metadata": {},
   "outputs": [
    {
     "name": "stdout",
     "output_type": "stream",
     "text": [
      "numero igual a 10\n"
     ]
    }
   ],
   "source": [
    "#puntos\n",
    "if 10:\n",
    "    print('numero igual a 10')"
   ]
  },
  {
   "cell_type": "code",
   "execution_count": 4,
   "metadata": {},
   "outputs": [
    {
     "name": "stdout",
     "output_type": "stream",
     "text": [
      "numero menor que 10\n"
     ]
    }
   ],
   "source": [
    "#Agregar variable y puntos\n",
    "numero = 5\n",
    "if numero < 10:\n",
    "    print('numero menor que 10')"
   ]
  },
  {
   "cell_type": "code",
   "execution_count": 5,
   "metadata": {},
   "outputs": [
    {
     "name": "stdout",
     "output_type": "stream",
     "text": [
      "nmero es mayor que 5\n"
     ]
    }
   ],
   "source": [
    "#Sangria\n",
    "numero = 8\n",
    "if numero > 5:\n",
    "    print('nmero es mayor que 5')"
   ]
  },
  {
   "cell_type": "code",
   "execution_count": 7,
   "metadata": {},
   "outputs": [
    {
     "name": "stdout",
     "output_type": "stream",
     "text": [
      "no es par\n"
     ]
    }
   ],
   "source": [
    "#Agregar el else\n",
    "numero = 3\n",
    "if numero % 2 == 0:\n",
    "    print('numero es par')\n",
    "else:\n",
    "    print('no es par')"
   ]
  },
  {
   "cell_type": "code",
   "execution_count": 8,
   "metadata": {},
   "outputs": [
    {
     "name": "stdout",
     "output_type": "stream",
     "text": [
      "El valor es Python\n"
     ]
    }
   ],
   "source": [
    "#6 - SIN ERROR\n",
    "valor = \"Python\"\n",
    "\n",
    "if valor != \"python\":\n",
    "    print(\"El valor es Python\")"
   ]
  },
  {
   "cell_type": "code",
   "execution_count": 9,
   "metadata": {},
   "outputs": [
    {
     "name": "stdout",
     "output_type": "stream",
     "text": [
      "tienes 18 años\n"
     ]
    }
   ],
   "source": [
    "#7 - un entero estaba entre comillas\n",
    "edad = 18\n",
    "if edad == 18:\n",
    "    print(\"tienes 18 años\")"
   ]
  },
  {
   "cell_type": "code",
   "execution_count": 10,
   "metadata": {},
   "outputs": [],
   "source": [
    "#8 - sin error\n",
    "if numero > 5:\n",
    "    print(\"numero mayor que 5\")"
   ]
  },
  {
   "cell_type": "code",
   "execution_count": 11,
   "metadata": {},
   "outputs": [
    {
     "name": "stdout",
     "output_type": "stream",
     "text": [
      "C\n"
     ]
    }
   ],
   "source": [
    "# - sin error\n",
    "nota = 75\n",
    "if nota >= 90:\n",
    "    print(\"A\")\n",
    "elif nota >= 80:\n",
    "    print(\"B\")\n",
    "elif nota >= 70:\n",
    "    print(\"C\")\n",
    "else:\n",
    "    print(\"D\")"
   ]
  },
  {
   "cell_type": "code",
   "execution_count": 13,
   "metadata": {},
   "outputs": [
    {
     "name": "stdout",
     "output_type": "stream",
     "text": [
      "numero es igual a 10\n"
     ]
    }
   ],
   "source": [
    "#doble =\n",
    "numero = 10\n",
    "if numero == 10:\n",
    "    print(\"numero es igual a 10\")"
   ]
  },
  {
   "cell_type": "markdown",
   "metadata": {},
   "source": [
    "Ciclo While"
   ]
  },
  {
   "cell_type": "code",
   "execution_count": 15,
   "metadata": {},
   "outputs": [
    {
     "name": "stdout",
     "output_type": "stream",
     "text": [
      "0\n",
      "1\n",
      "2\n",
      "3\n",
      "4\n"
     ]
    }
   ],
   "source": [
    "#varible bandera que indica la condicion de salida\n",
    "\n",
    "flag = 0\n",
    "\n",
    "while flag < 5:\n",
    "    print(flag)\n",
    "    flag = flag +1"
   ]
  },
  {
   "cell_type": "code",
   "execution_count": 16,
   "metadata": {},
   "outputs": [
    {
     "name": "stdout",
     "output_type": "stream",
     "text": [
      "0\n",
      "1\n",
      "2\n",
      "3\n",
      "4\n"
     ]
    }
   ],
   "source": [
    "flag = 0 #varible bandera\n",
    "while flag < 5:\n",
    "    print(flag)\n",
    "    flag += 1"
   ]
  },
  {
   "cell_type": "code",
   "execution_count": null,
   "metadata": {},
   "outputs": [],
   "source": [
    "#while condition:\n",
    "    #code goes here\n",
    "#else:\n",
    "#code goes here"
   ]
  },
  {
   "cell_type": "code",
   "execution_count": 17,
   "metadata": {},
   "outputs": [
    {
     "name": "stdout",
     "output_type": "stream",
     "text": [
      "0\n",
      "1\n",
      "2\n",
      "3\n",
      "4\n",
      "El valor de flag es: 5\n"
     ]
    }
   ],
   "source": [
    "flag = 0 \n",
    "while flag < 5:\n",
    "    print(flag)\n",
    "    flag += 1\n",
    "else: \n",
    "    print(f\"El valor de flag es: {flag}\")\n",
    "    #Cuando llega al numero 5 la condicion se vuelve falsa\n",
    "    #y entonces ELSE (SINO) seria 5 y lo imprime"
   ]
  },
  {
   "cell_type": "code",
   "execution_count": null,
   "metadata": {},
   "outputs": [],
   "source": [
    "\"\"\"\n",
    "Implementar una solucion la cual adivine un numero \n",
    "previamente definido por un usuario y que otro usuario lo digite otro valor\n",
    "tratando de adivinar el definido \n",
    "\n",
    "Mensaje de inicio: Digita el numero para adivinar.\n",
    "Si no adivina el mensaje es: Intenta de nuevo\n",
    "Si adivino: Felicitaciones adivinaste!\n",
    "\"\"\"\n",
    "numOtroUs = int(input('Otro numero para adivinar'))\n",
    "\n",
    "flag = 4;\n",
    "while numOtroUs != flag:\n",
    "    numOtroUs = int(input(\"Intenta de nuevo\"))\n",
    "else:\n",
    "    print(\"Felicidades ganaste\")\n"
   ]
  },
  {
   "cell_type": "code",
   "execution_count": 1,
   "metadata": {},
   "outputs": [],
   "source": [
    "flag = 4\n",
    "estadoAdivino = False\n",
    "while not estadoAdivino:\n",
    "    intento = int(input('Digita el numero para adivinar'))\n",
    "\n",
    "    if intento == flag:\n",
    "        print('Felicidades adivinaste ')\n",
    "        estadoAdivino = True\n",
    "    else:\n",
    "        print(\"Intenta de nuevo \")"
   ]
  },
  {
   "cell_type": "code",
   "execution_count": 3,
   "metadata": {},
   "outputs": [
    {
     "name": "stdout",
     "output_type": "stream",
     "text": [
      "la suma de los numero es 500472\n"
     ]
    }
   ],
   "source": [
    "#Suma de los primero n numeros\n",
    "i = 8\n",
    "suma = 0\n",
    "n = 1000\n",
    "\n",
    "while i <= n:\n",
    "    suma += i\n",
    "    i += 1\n",
    "\n",
    "print(f\"la suma de los numero es {suma}\")"
   ]
  },
  {
   "cell_type": "code",
   "execution_count": 5,
   "metadata": {},
   "outputs": [
    {
     "name": "stdout",
     "output_type": "stream",
     "text": [
      "El factorial del numero 5 es 120\n"
     ]
    }
   ],
   "source": [
    "#calculo de factorial de un numero - Recursividad\n",
    "#Algo se este llamando a el mismo para calcularse\n",
    "\n",
    "#3! = 3x2x1\n",
    "#4! = 4x3x2x1\n",
    "\n",
    "#Numero al que necesito calcularle el factorial\n",
    "\n",
    "n = 5\n",
    "banderaFactorial = 1\n",
    "contador = 1 #la suma de mis numeros/Otra bandera\n",
    "while contador <= n:\n",
    "    banderaFactorial *= contador #por el que va avanzando\n",
    "    contador += 1\n",
    "print(f\"El factorial del numero {n} es {banderaFactorial}\")\n",
    "\n"
   ]
  },
  {
   "cell_type": "markdown",
   "metadata": {},
   "source": [
    "Break and continue:"
   ]
  },
  {
   "cell_type": "markdown",
   "metadata": {},
   "source": [
    "BREAK"
   ]
  },
  {
   "cell_type": "code",
   "execution_count": 6,
   "metadata": {},
   "outputs": [
    {
     "name": "stdout",
     "output_type": "stream",
     "text": [
      "0\n",
      "1\n",
      "2\n",
      "valor de break 3\n"
     ]
    }
   ],
   "source": [
    "flag = 0\n",
    "while flag < 100:\n",
    "    print(flag)\n",
    "    flag += 1\n",
    "    if flag == 3:\n",
    "        print(\"valor de break\", flag)\n",
    "        break"
   ]
  },
  {
   "cell_type": "code",
   "execution_count": 9,
   "metadata": {},
   "outputs": [
    {
     "name": "stdout",
     "output_type": "stream",
     "text": [
      "valor antes del continue 0\n",
      "valor antes del continue 1\n",
      "valor antes del continue 2\n",
      "valor antes del continue 3\n",
      "valor antes del continue 4\n"
     ]
    },
    {
     "ename": "KeyboardInterrupt",
     "evalue": "",
     "output_type": "error",
     "traceback": [
      "\u001b[1;31m---------------------------------------------------------------------------\u001b[0m",
      "\u001b[1;31mKeyboardInterrupt\u001b[0m                         Traceback (most recent call last)",
      "Cell \u001b[1;32mIn[9], line 4\u001b[0m\n\u001b[0;32m      2\u001b[0m \u001b[39mwhile\u001b[39;00m flag \u001b[39m<\u001b[39m \u001b[39m10\u001b[39m:    \n\u001b[0;32m      3\u001b[0m     \u001b[39mif\u001b[39;00m flag \u001b[39m==\u001b[39m \u001b[39m5\u001b[39m:\n\u001b[1;32m----> 4\u001b[0m         \u001b[39mcontinue\u001b[39;00m\n\u001b[0;32m      5\u001b[0m     \u001b[39mprint\u001b[39m(\u001b[39m\"\u001b[39m\u001b[39mvalor antes del continue\u001b[39m\u001b[39m\"\u001b[39m, flag)\n\u001b[0;32m      6\u001b[0m     flag \u001b[39m+\u001b[39m\u001b[39m=\u001b[39m \u001b[39m1\u001b[39m\n",
      "\u001b[1;31mKeyboardInterrupt\u001b[0m: "
     ]
    }
   ],
   "source": [
    "flag = 0\n",
    "while flag < 10:    \n",
    "    if flag == 5:\n",
    "        continue\n",
    "    print(\"valor antes del continue\", flag)\n",
    "    flag += 1"
   ]
  },
  {
   "cell_type": "markdown",
   "metadata": {},
   "source": [
    "ELSE"
   ]
  },
  {
   "cell_type": "code",
   "execution_count": 10,
   "metadata": {},
   "outputs": [
    {
     "name": "stdout",
     "output_type": "stream",
     "text": [
      "1\n",
      "2\n",
      "3\n",
      "4\n",
      "5\n",
      "esta es otra opcion\n"
     ]
    }
   ],
   "source": [
    "i = 1\n",
    "\n",
    "while i < 6:\n",
    "    print(i)\n",
    "    i += 1\n",
    "else:\n",
    "    print(\"esta es otra opcion\")"
   ]
  },
  {
   "cell_type": "markdown",
   "metadata": {},
   "source": [
    "ciclo for"
   ]
  },
  {
   "cell_type": "code",
   "execution_count": 16,
   "metadata": {},
   "outputs": [
    {
     "name": "stdout",
     "output_type": "stream",
     "text": [
      "mango\n",
      "jocote\n",
      "piña\n",
      "guineo\n",
      "papaya\n"
     ]
    },
    {
     "data": {
      "text/plain": [
       "'papaya'"
      ]
     },
     "execution_count": 16,
     "metadata": {},
     "output_type": "execute_result"
    }
   ],
   "source": [
    "frutas = ['mango', 'jocote', 'piña', 'guineo', 'papaya']\n",
    "for i in frutas:\n",
    "    print(i)\n",
    "#para variable interador en lista\n",
    "#imprime la variable\n",
    "frutas [0]\n",
    "frutas [4]"
   ]
  },
  {
   "cell_type": "markdown",
   "metadata": {},
   "source": [
    "bucle for a traves de una cadena"
   ]
  },
  {
   "cell_type": "code",
   "execution_count": 18,
   "metadata": {},
   "outputs": [
    {
     "name": "stdout",
     "output_type": "stream",
     "text": [
      "h\n",
      "o\n",
      "l\n",
      "a\n",
      " \n",
      "c\n",
      "o\n",
      "m\n",
      "o\n",
      " \n",
      "e\n",
      "s\n",
      "t\n",
      "a\n",
      "n\n"
     ]
    }
   ],
   "source": [
    "cadena = 'hola como estan'\n",
    "\n",
    "for i in cadena:\n",
    "    print(i)"
   ]
  },
  {
   "cell_type": "markdown",
   "metadata": {},
   "source": [
    "FOR SOBRE TUPLAS"
   ]
  },
  {
   "cell_type": "code",
   "execution_count": 19,
   "metadata": {},
   "outputs": [
    {
     "name": "stdout",
     "output_type": "stream",
     "text": [
      "0\n",
      "1\n",
      "2\n",
      "3\n",
      "4\n",
      "5\n",
      "6\n"
     ]
    }
   ],
   "source": [
    "tupla = (0,1,2,3,4,5,6)\n",
    "\n",
    "for elementos in tupla:\n",
    "    print(elementos)"
   ]
  },
  {
   "cell_type": "code",
   "execution_count": 20,
   "metadata": {},
   "outputs": [
    {
     "name": "stdout",
     "output_type": "stream",
     "text": [
      "a\n",
      "b\n",
      "b\n",
      "d\n",
      "e\n"
     ]
    }
   ],
   "source": [
    "tupla = ('a','b','b','d','e')\n",
    "for elementos in tupla:\n",
    "    print(elementos)"
   ]
  },
  {
   "cell_type": "markdown",
   "metadata": {},
   "source": [
    "ciclo for sobre diccionarios"
   ]
  },
  {
   "cell_type": "code",
   "execution_count": 23,
   "metadata": {},
   "outputs": [
    {
     "name": "stdout",
     "output_type": "stream",
     "text": [
      "Nombre  Ash\n",
      "Apellindo ketchum\n",
      "edad 10\n",
      "Municipio kanto\n"
     ]
    }
   ],
   "source": [
    "informacionPersona = {\n",
    "    'Nombre ' : 'Ash',\n",
    "    'Apellindo' : 'ketchum',\n",
    "    'edad' : '10',\n",
    "    'Municipio' : 'kanto'\n",
    "}\n",
    "\n",
    "for info, valor in informacionPersona.items():\n",
    "    print(info, valor)"
   ]
  },
  {
   "cell_type": "markdown",
   "metadata": {},
   "source": [
    "DECLARACION DE LA RUPTURA - FOR"
   ]
  },
  {
   "cell_type": "code",
   "execution_count": 25,
   "metadata": {},
   "outputs": [
    {
     "name": "stdout",
     "output_type": "stream",
     "text": [
      "mango\n",
      "jocote\n",
      "piña\n",
      "guineo\n"
     ]
    }
   ],
   "source": [
    "frutas = ['mango','jocote', 'piña', 'guineo','papaya']\n",
    "for it in frutas:\n",
    "    print(it)\n",
    "    if it == 'guineo':\n",
    "        break"
   ]
  },
  {
   "cell_type": "code",
   "execution_count": null,
   "metadata": {},
   "outputs": [],
   "source": [
    "tupla = ('a','b','b','d','e')\n",
    "for letras in tupla:\n",
    "    print(letras)"
   ]
  },
  {
   "cell_type": "code",
   "execution_count": null,
   "metadata": {},
   "outputs": [],
   "source": [
    "tuplaNumeros = (1,2,3,4,5,6,7,8)"
   ]
  },
  {
   "cell_type": "markdown",
   "metadata": {},
   "source": [
    "La funcion rango"
   ]
  },
  {
   "cell_type": "code",
   "execution_count": null,
   "metadata": {},
   "outputs": [],
   "source": [
    "secuencia = list"
   ]
  }
 ],
 "metadata": {
  "kernelspec": {
   "display_name": "Python 3",
   "language": "python",
   "name": "python3"
  },
  "language_info": {
   "codemirror_mode": {
    "name": "ipython",
    "version": 3
   },
   "file_extension": ".py",
   "mimetype": "text/x-python",
   "name": "python",
   "nbconvert_exporter": "python",
   "pygments_lexer": "ipython3",
   "version": "3.11.4"
  },
  "orig_nbformat": 4
 },
 "nbformat": 4,
 "nbformat_minor": 2
}
